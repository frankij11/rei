{
 "cells": [
  {
   "cell_type": "code",
   "execution_count": 1,
   "id": "817c3950-3948-4d4d-bf74-dbab35751f89",
   "metadata": {},
   "outputs": [],
   "source": [
    "import rei"
   ]
  },
  {
   "cell_type": "code",
   "execution_count": 2,
   "id": "9f967c29-246d-46e8-875f-9f0495ff8d9d",
   "metadata": {},
   "outputs": [
    {
     "name": "stderr",
     "output_type": "stream",
     "text": [
      "c:\\users\\kevin\\onedrive\\documents\\projects\\rei\\rei\\sdat.py:248: FutureWarning: The default value of regex will change from True to False in a future version.\n",
      "  \".*STRY *(.*?) *Story.*\", \"\\\\1\").str.replace(\"TH |Center|End|STRY|\", \"\", case=False),\n"
     ]
    }
   ],
   "source": [
    "H = rei.Home(\"1303 Alberta Dr\")"
   ]
  },
  {
   "cell_type": "code",
   "execution_count": 3,
   "id": "ce046fe8-cbf6-4759-8138-0b0d31ce64d7",
   "metadata": {},
   "outputs": [
    {
     "data": {
      "text/html": [
       "<div>\n",
       "<style scoped>\n",
       "    .dataframe tbody tr th:only-of-type {\n",
       "        vertical-align: middle;\n",
       "    }\n",
       "\n",
       "    .dataframe tbody tr th {\n",
       "        vertical-align: top;\n",
       "    }\n",
       "\n",
       "    .dataframe thead th {\n",
       "        text-align: right;\n",
       "    }\n",
       "</style>\n",
       "<table border=\"1\" class=\"dataframe\">\n",
       "  <thead>\n",
       "    <tr style=\"text-align: right;\">\n",
       "      <th></th>\n",
       "      <th>index</th>\n",
       "      <th>price</th>\n",
       "      <th>sqft</th>\n",
       "    </tr>\n",
       "  </thead>\n",
       "  <tbody>\n",
       "    <tr>\n",
       "      <th>0</th>\n",
       "      <td>count</td>\n",
       "      <td>37.000000</td>\n",
       "      <td>37.000000</td>\n",
       "    </tr>\n",
       "    <tr>\n",
       "      <th>1</th>\n",
       "      <td>mean</td>\n",
       "      <td>306832.108108</td>\n",
       "      <td>1094.837838</td>\n",
       "    </tr>\n",
       "    <tr>\n",
       "      <th>2</th>\n",
       "      <td>std</td>\n",
       "      <td>66925.479988</td>\n",
       "      <td>45.790898</td>\n",
       "    </tr>\n",
       "    <tr>\n",
       "      <th>3</th>\n",
       "      <td>min</td>\n",
       "      <td>100000.000000</td>\n",
       "      <td>1008.000000</td>\n",
       "    </tr>\n",
       "    <tr>\n",
       "      <th>4</th>\n",
       "      <td>25%</td>\n",
       "      <td>282000.000000</td>\n",
       "      <td>1073.000000</td>\n",
       "    </tr>\n",
       "    <tr>\n",
       "      <th>5</th>\n",
       "      <td>50%</td>\n",
       "      <td>308000.000000</td>\n",
       "      <td>1100.000000</td>\n",
       "    </tr>\n",
       "    <tr>\n",
       "      <th>6</th>\n",
       "      <td>75%</td>\n",
       "      <td>355999.000000</td>\n",
       "      <td>1125.000000</td>\n",
       "    </tr>\n",
       "    <tr>\n",
       "      <th>7</th>\n",
       "      <td>max</td>\n",
       "      <td>420000.000000</td>\n",
       "      <td>1161.000000</td>\n",
       "    </tr>\n",
       "  </tbody>\n",
       "</table>\n",
       "</div>"
      ],
      "text/plain": [
       "   index          price         sqft\n",
       "0  count      37.000000    37.000000\n",
       "1   mean  306832.108108  1094.837838\n",
       "2    std   66925.479988    45.790898\n",
       "3    min  100000.000000  1008.000000\n",
       "4    25%  282000.000000  1073.000000\n",
       "5    50%  308000.000000  1100.000000\n",
       "6    75%  355999.000000  1125.000000\n",
       "7    max  420000.000000  1161.000000"
      ]
     },
     "execution_count": 3,
     "metadata": {},
     "output_type": "execute_result"
    }
   ],
   "source": [
    "H.arv\n",
    "H.comps_filtered[['price', 'sqft']].describe().reset_index()"
   ]
  },
  {
   "cell_type": "code",
   "execution_count": 4,
   "id": "c40209e1-98d9-437d-8dfb-da3698df0437",
   "metadata": {},
   "outputs": [
    {
     "name": "stderr",
     "output_type": "stream",
     "text": [
      "c:\\users\\kevin\\onedrive\\documents\\projects\\rei\\rei\\sdat.py:248: FutureWarning: The default value of regex will change from True to False in a future version.\n",
      "  \".*STRY *(.*?) *Story.*\", \"\\\\1\").str.replace(\"TH |Center|End|STRY|\", \"\", case=False),\n"
     ]
    }
   ],
   "source": [
    "Hs = rei.Homes(H.comps.address.unique().tolist()[0:5])"
   ]
  },
  {
   "cell_type": "code",
   "execution_count": 6,
   "id": "e85617c8-0e6c-4cb8-91b6-3d3f6bc9876a",
   "metadata": {},
   "outputs": [
    {
     "data": {
      "text/plain": [
       "['8414 LENASKIN LANE',\n",
       " '1720 BRADMOORE DR',\n",
       " '1905 MAEMOORE CT',\n",
       " '1517 RITCHIE ROAD',\n",
       " '7901 DARCY ROAD']"
      ]
     },
     "execution_count": 6,
     "metadata": {},
     "output_type": "execute_result"
    }
   ],
   "source": [
    "Hs.addresses"
   ]
  },
  {
   "cell_type": "code",
   "execution_count": 8,
   "id": "2854d7f0-d486-4121-a131-054d28b5697a",
   "metadata": {},
   "outputs": [
    {
     "data": {
      "text/html": [
       "<div>\n",
       "<style scoped>\n",
       "    .dataframe tbody tr th:only-of-type {\n",
       "        vertical-align: middle;\n",
       "    }\n",
       "\n",
       "    .dataframe tbody tr th {\n",
       "        vertical-align: top;\n",
       "    }\n",
       "\n",
       "    .dataframe thead th {\n",
       "        text-align: right;\n",
       "    }\n",
       "</style>\n",
       "<table border=\"1\" class=\"dataframe\">\n",
       "  <thead>\n",
       "    <tr style=\"text-align: right;\">\n",
       "      <th></th>\n",
       "      <th>address</th>\n",
       "      <th>sqft</th>\n",
       "      <th>count</th>\n",
       "      <th>mean</th>\n",
       "      <th>std</th>\n",
       "      <th>min</th>\n",
       "      <th>25%</th>\n",
       "      <th>50%</th>\n",
       "      <th>75%</th>\n",
       "      <th>max</th>\n",
       "    </tr>\n",
       "  </thead>\n",
       "  <tbody>\n",
       "    <tr>\n",
       "      <th>0</th>\n",
       "      <td>8414 LENASKIN LANE</td>\n",
       "      <td>1680</td>\n",
       "      <td>10.0</td>\n",
       "      <td>442056.000000</td>\n",
       "      <td>188030.930742</td>\n",
       "      <td>235000.0</td>\n",
       "      <td>356350.0</td>\n",
       "      <td>392500.0</td>\n",
       "      <td>423725.0</td>\n",
       "      <td>925000.0</td>\n",
       "    </tr>\n",
       "    <tr>\n",
       "      <th>1</th>\n",
       "      <td>1720 BRADMOORE DR</td>\n",
       "      <td>1196</td>\n",
       "      <td>35.0</td>\n",
       "      <td>308525.714286</td>\n",
       "      <td>54960.195986</td>\n",
       "      <td>155000.0</td>\n",
       "      <td>290500.0</td>\n",
       "      <td>315000.0</td>\n",
       "      <td>341500.0</td>\n",
       "      <td>440000.0</td>\n",
       "    </tr>\n",
       "    <tr>\n",
       "      <th>2</th>\n",
       "      <td>1905 MAEMOORE CT</td>\n",
       "      <td>1678</td>\n",
       "      <td>14.0</td>\n",
       "      <td>428254.285714</td>\n",
       "      <td>158171.397867</td>\n",
       "      <td>235000.0</td>\n",
       "      <td>385000.0</td>\n",
       "      <td>390000.0</td>\n",
       "      <td>417425.0</td>\n",
       "      <td>925000.0</td>\n",
       "    </tr>\n",
       "    <tr>\n",
       "      <th>3</th>\n",
       "      <td>1517 RITCHIE ROAD</td>\n",
       "      <td>1928</td>\n",
       "      <td>5.0</td>\n",
       "      <td>340000.000000</td>\n",
       "      <td>84926.438757</td>\n",
       "      <td>205000.0</td>\n",
       "      <td>340000.0</td>\n",
       "      <td>340000.0</td>\n",
       "      <td>380000.0</td>\n",
       "      <td>435000.0</td>\n",
       "    </tr>\n",
       "    <tr>\n",
       "      <th>4</th>\n",
       "      <td>7901 DARCY ROAD</td>\n",
       "      <td>1862</td>\n",
       "      <td>24.0</td>\n",
       "      <td>396494.208333</td>\n",
       "      <td>132290.702259</td>\n",
       "      <td>210600.0</td>\n",
       "      <td>346750.0</td>\n",
       "      <td>390000.0</td>\n",
       "      <td>411250.0</td>\n",
       "      <td>925000.0</td>\n",
       "    </tr>\n",
       "  </tbody>\n",
       "</table>\n",
       "</div>"
      ],
      "text/plain": [
       "              address  sqft  count           mean            std       min  \\\n",
       "0  8414 LENASKIN LANE  1680   10.0  442056.000000  188030.930742  235000.0   \n",
       "1   1720 BRADMOORE DR  1196   35.0  308525.714286   54960.195986  155000.0   \n",
       "2    1905 MAEMOORE CT  1678   14.0  428254.285714  158171.397867  235000.0   \n",
       "3   1517 RITCHIE ROAD  1928    5.0  340000.000000   84926.438757  205000.0   \n",
       "4     7901 DARCY ROAD  1862   24.0  396494.208333  132290.702259  210600.0   \n",
       "\n",
       "        25%       50%       75%       max  \n",
       "0  356350.0  392500.0  423725.0  925000.0  \n",
       "1  290500.0  315000.0  341500.0  440000.0  \n",
       "2  385000.0  390000.0  417425.0  925000.0  \n",
       "3  340000.0  340000.0  380000.0  435000.0  \n",
       "4  346750.0  390000.0  411250.0  925000.0  "
      ]
     },
     "execution_count": 8,
     "metadata": {},
     "output_type": "execute_result"
    }
   ],
   "source": [
    "Hs.view()"
   ]
  },
  {
   "cell_type": "code",
   "execution_count": null,
   "id": "10ccb362-f9e9-46b3-a9e3-8441fff47709",
   "metadata": {},
   "outputs": [],
   "source": []
  }
 ],
 "metadata": {
  "kernelspec": {
   "display_name": "Python 3",
   "language": "python",
   "name": "python3"
  },
  "language_info": {
   "codemirror_mode": {
    "name": "ipython",
    "version": 3
   },
   "file_extension": ".py",
   "mimetype": "text/x-python",
   "name": "python",
   "nbconvert_exporter": "python",
   "pygments_lexer": "ipython3",
   "version": "3.7.6"
  }
 },
 "nbformat": 4,
 "nbformat_minor": 5
}
